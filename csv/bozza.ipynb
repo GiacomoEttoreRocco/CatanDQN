{
  "cells": [
    {
      "cell_type": "code",
      "execution_count": 22,
      "metadata": {
        "colab": {
          "base_uri": "https://localhost:8080/",
          "height": 1000
        },
        "id": "mB_ms0YisAvN",
        "outputId": "283f7438-e487-4c0d-be98-8f0f1e7cf446"
      },
      "outputs": [
        {
          "name": "stdout",
          "output_type": "stream",
          "text": [
            "Requirement already satisfied: dgl in c:\\users\\ricca\\miniconda3\\envs\\prnu\\lib\\site-packages (0.9.1)\n",
            "Requirement already satisfied: psutil>=5.8.0 in c:\\users\\ricca\\appdata\\roaming\\python\\python310\\site-packages (from dgl) (5.9.4)\n",
            "Requirement already satisfied: numpy>=1.14.0 in c:\\users\\ricca\\miniconda3\\envs\\prnu\\lib\\site-packages (from dgl) (1.23.5)\n",
            "Requirement already satisfied: tqdm in c:\\users\\ricca\\miniconda3\\envs\\prnu\\lib\\site-packages (from dgl) (4.64.1)\n",
            "Requirement already satisfied: requests>=2.19.0 in c:\\users\\ricca\\miniconda3\\envs\\prnu\\lib\\site-packages (from dgl) (2.28.1)\n",
            "Requirement already satisfied: networkx>=2.1 in c:\\users\\ricca\\miniconda3\\envs\\prnu\\lib\\site-packages (from dgl) (2.8.8)\n",
            "Requirement already satisfied: scipy>=1.1.0 in c:\\users\\ricca\\miniconda3\\envs\\prnu\\lib\\site-packages (from dgl) (1.9.3)\n",
            "Requirement already satisfied: idna<4,>=2.5 in c:\\users\\ricca\\miniconda3\\envs\\prnu\\lib\\site-packages (from requests>=2.19.0->dgl) (3.4)\n",
            "Requirement already satisfied: charset-normalizer<3,>=2 in c:\\users\\ricca\\miniconda3\\envs\\prnu\\lib\\site-packages (from requests>=2.19.0->dgl) (2.1.1)\n",
            "Requirement already satisfied: certifi>=2017.4.17 in c:\\users\\ricca\\miniconda3\\envs\\prnu\\lib\\site-packages (from requests>=2.19.0->dgl) (2022.12.7)\n",
            "Requirement already satisfied: urllib3<1.27,>=1.21.1 in c:\\users\\ricca\\miniconda3\\envs\\prnu\\lib\\site-packages (from requests>=2.19.0->dgl) (1.26.13)\n",
            "Requirement already satisfied: colorama in c:\\users\\ricca\\appdata\\roaming\\python\\python310\\site-packages (from tqdm->dgl) (0.4.6)\n",
            "Note: you may need to restart the kernel to use updated packages.\n",
            "Looking in links: https://data.dgl.ai/wheels/repo.html\n",
            "Requirement already satisfied: dgl in c:\\users\\ricca\\miniconda3\\envs\\prnu\\lib\\site-packages (0.9.1)\n",
            "Requirement already satisfied: dglgo in c:\\users\\ricca\\miniconda3\\envs\\prnu\\lib\\site-packages (0.0.2)\n",
            "Requirement already satisfied: scipy>=1.1.0 in c:\\users\\ricca\\miniconda3\\envs\\prnu\\lib\\site-packages (from dgl) (1.9.3)\n",
            "Requirement already satisfied: tqdm in c:\\users\\ricca\\miniconda3\\envs\\prnu\\lib\\site-packages (from dgl) (4.64.1)\n",
            "Requirement already satisfied: requests>=2.19.0 in c:\\users\\ricca\\miniconda3\\envs\\prnu\\lib\\site-packages (from dgl) (2.28.1)\n",
            "Requirement already satisfied: networkx>=2.1 in c:\\users\\ricca\\miniconda3\\envs\\prnu\\lib\\site-packages (from dgl) (2.8.8)\n",
            "Requirement already satisfied: psutil>=5.8.0 in c:\\users\\ricca\\appdata\\roaming\\python\\python310\\site-packages (from dgl) (5.9.4)\n",
            "Requirement already satisfied: numpy>=1.14.0 in c:\\users\\ricca\\miniconda3\\envs\\prnu\\lib\\site-packages (from dgl) (1.23.5)\n",
            "Requirement already satisfied: autopep8>=1.6.0 in c:\\users\\ricca\\miniconda3\\envs\\prnu\\lib\\site-packages (from dglgo) (2.0.1)\n",
            "Requirement already satisfied: numpydoc>=1.1.0 in c:\\users\\ricca\\miniconda3\\envs\\prnu\\lib\\site-packages (from dglgo) (1.5.0)\n",
            "Requirement already satisfied: rdkit-pypi in c:\\users\\ricca\\miniconda3\\envs\\prnu\\lib\\site-packages (from dglgo) (2022.9.3)\n",
            "Requirement already satisfied: scikit-learn>=0.20.0 in c:\\users\\ricca\\miniconda3\\envs\\prnu\\lib\\site-packages (from dglgo) (1.1.3)\n",
            "Requirement already satisfied: isort>=5.10.1 in c:\\users\\ricca\\miniconda3\\envs\\prnu\\lib\\site-packages (from dglgo) (5.11.2)\n",
            "Requirement already satisfied: PyYAML>=5.1 in c:\\users\\ricca\\miniconda3\\envs\\prnu\\lib\\site-packages (from dglgo) (6.0)\n",
            "Requirement already satisfied: ruamel.yaml>=0.17.20 in c:\\users\\ricca\\miniconda3\\envs\\prnu\\lib\\site-packages (from dglgo) (0.17.21)\n",
            "Requirement already satisfied: typer>=0.4.0 in c:\\users\\ricca\\miniconda3\\envs\\prnu\\lib\\site-packages (from dglgo) (0.7.0)\n",
            "Requirement already satisfied: ogb>=1.3.3 in c:\\users\\ricca\\miniconda3\\envs\\prnu\\lib\\site-packages (from dglgo) (1.3.5)\n",
            "Requirement already satisfied: pydantic>=1.9.0 in c:\\users\\ricca\\miniconda3\\envs\\prnu\\lib\\site-packages (from dglgo) (1.10.2)\n",
            "Requirement already satisfied: tomli in c:\\users\\ricca\\miniconda3\\envs\\prnu\\lib\\site-packages (from autopep8>=1.6.0->dglgo) (2.0.1)\n",
            "Requirement already satisfied: pycodestyle>=2.10.0 in c:\\users\\ricca\\miniconda3\\envs\\prnu\\lib\\site-packages (from autopep8>=1.6.0->dglgo) (2.10.0)\n",
            "Requirement already satisfied: Jinja2>=2.10 in c:\\users\\ricca\\miniconda3\\envs\\prnu\\lib\\site-packages (from numpydoc>=1.1.0->dglgo) (3.1.2)\n",
            "Requirement already satisfied: sphinx>=4.2 in c:\\users\\ricca\\miniconda3\\envs\\prnu\\lib\\site-packages (from numpydoc>=1.1.0->dglgo) (5.3.0)\n",
            "Requirement already satisfied: six>=1.12.0 in c:\\users\\ricca\\miniconda3\\envs\\prnu\\lib\\site-packages (from ogb>=1.3.3->dglgo) (1.16.0)\n",
            "Requirement already satisfied: pandas>=0.24.0 in c:\\users\\ricca\\miniconda3\\envs\\prnu\\lib\\site-packages (from ogb>=1.3.3->dglgo) (1.5.2)\n",
            "Requirement already satisfied: torch>=1.6.0 in c:\\users\\ricca\\miniconda3\\envs\\prnu\\lib\\site-packages (from ogb>=1.3.3->dglgo) (1.13.0)\n",
            "Requirement already satisfied: urllib3>=1.24.0 in c:\\users\\ricca\\miniconda3\\envs\\prnu\\lib\\site-packages (from ogb>=1.3.3->dglgo) (1.26.13)\n",
            "Requirement already satisfied: outdated>=0.2.0 in c:\\users\\ricca\\miniconda3\\envs\\prnu\\lib\\site-packages (from ogb>=1.3.3->dglgo) (0.2.2)\n",
            "Requirement already satisfied: typing-extensions>=4.1.0 in c:\\users\\ricca\\miniconda3\\envs\\prnu\\lib\\site-packages (from pydantic>=1.9.0->dglgo) (4.4.0)\n",
            "Requirement already satisfied: idna<4,>=2.5 in c:\\users\\ricca\\miniconda3\\envs\\prnu\\lib\\site-packages (from requests>=2.19.0->dgl) (3.4)\n",
            "Requirement already satisfied: charset-normalizer<3,>=2 in c:\\users\\ricca\\miniconda3\\envs\\prnu\\lib\\site-packages (from requests>=2.19.0->dgl) (2.1.1)\n",
            "Requirement already satisfied: certifi>=2017.4.17 in c:\\users\\ricca\\miniconda3\\envs\\prnu\\lib\\site-packages (from requests>=2.19.0->dgl) (2022.12.7)\n",
            "Requirement already satisfied: ruamel.yaml.clib>=0.2.6 in c:\\users\\ricca\\miniconda3\\envs\\prnu\\lib\\site-packages (from ruamel.yaml>=0.17.20->dglgo) (0.2.7)\n",
            "Requirement already satisfied: threadpoolctl>=2.0.0 in c:\\users\\ricca\\miniconda3\\envs\\prnu\\lib\\site-packages (from scikit-learn>=0.20.0->dglgo) (3.1.0)\n",
            "Requirement already satisfied: joblib>=1.0.0 in c:\\users\\ricca\\miniconda3\\envs\\prnu\\lib\\site-packages (from scikit-learn>=0.20.0->dglgo) (1.2.0)\n",
            "Requirement already satisfied: colorama in c:\\users\\ricca\\appdata\\roaming\\python\\python310\\site-packages (from tqdm->dgl) (0.4.6)\n",
            "Requirement already satisfied: click<9.0.0,>=7.1.1 in c:\\users\\ricca\\miniconda3\\envs\\prnu\\lib\\site-packages (from typer>=0.4.0->dglgo) (8.1.3)\n",
            "Requirement already satisfied: Pillow in c:\\users\\ricca\\miniconda3\\envs\\prnu\\lib\\site-packages (from rdkit-pypi->dglgo) (9.2.0)\n",
            "Requirement already satisfied: MarkupSafe>=2.0 in c:\\users\\ricca\\miniconda3\\envs\\prnu\\lib\\site-packages (from Jinja2>=2.10->numpydoc>=1.1.0->dglgo) (2.1.1)\n",
            "Requirement already satisfied: setuptools>=44 in c:\\users\\ricca\\miniconda3\\envs\\prnu\\lib\\site-packages (from outdated>=0.2.0->ogb>=1.3.3->dglgo) (65.5.1)\n",
            "Requirement already satisfied: littleutils in c:\\users\\ricca\\miniconda3\\envs\\prnu\\lib\\site-packages (from outdated>=0.2.0->ogb>=1.3.3->dglgo) (0.2.2)\n",
            "Requirement already satisfied: pytz>=2020.1 in c:\\users\\ricca\\miniconda3\\envs\\prnu\\lib\\site-packages (from pandas>=0.24.0->ogb>=1.3.3->dglgo) (2022.6)\n",
            "Requirement already satisfied: python-dateutil>=2.8.1 in c:\\users\\ricca\\appdata\\roaming\\python\\python310\\site-packages (from pandas>=0.24.0->ogb>=1.3.3->dglgo) (2.8.2)\n",
            "Requirement already satisfied: snowballstemmer>=2.0 in c:\\users\\ricca\\miniconda3\\envs\\prnu\\lib\\site-packages (from sphinx>=4.2->numpydoc>=1.1.0->dglgo) (2.2.0)\n",
            "Requirement already satisfied: docutils<0.20,>=0.14 in c:\\users\\ricca\\miniconda3\\envs\\prnu\\lib\\site-packages (from sphinx>=4.2->numpydoc>=1.1.0->dglgo) (0.19)\n",
            "Requirement already satisfied: sphinxcontrib-devhelp in c:\\users\\ricca\\miniconda3\\envs\\prnu\\lib\\site-packages (from sphinx>=4.2->numpydoc>=1.1.0->dglgo) (1.0.2)\n",
            "Requirement already satisfied: sphinxcontrib-serializinghtml>=1.1.5 in c:\\users\\ricca\\miniconda3\\envs\\prnu\\lib\\site-packages (from sphinx>=4.2->numpydoc>=1.1.0->dglgo) (1.1.5)\n",
            "Requirement already satisfied: alabaster<0.8,>=0.7 in c:\\users\\ricca\\miniconda3\\envs\\prnu\\lib\\site-packages (from sphinx>=4.2->numpydoc>=1.1.0->dglgo) (0.7.12)\n",
            "Requirement already satisfied: sphinxcontrib-jsmath in c:\\users\\ricca\\miniconda3\\envs\\prnu\\lib\\site-packages (from sphinx>=4.2->numpydoc>=1.1.0->dglgo) (1.0.1)\n",
            "Requirement already satisfied: Pygments>=2.12 in c:\\users\\ricca\\appdata\\roaming\\python\\python310\\site-packages (from sphinx>=4.2->numpydoc>=1.1.0->dglgo) (2.13.0)\n",
            "Requirement already satisfied: packaging>=21.0 in c:\\users\\ricca\\appdata\\roaming\\python\\python310\\site-packages (from sphinx>=4.2->numpydoc>=1.1.0->dglgo) (21.3)\n",
            "Requirement already satisfied: sphinxcontrib-applehelp in c:\\users\\ricca\\miniconda3\\envs\\prnu\\lib\\site-packages (from sphinx>=4.2->numpydoc>=1.1.0->dglgo) (1.0.2)\n",
            "Requirement already satisfied: sphinxcontrib-qthelp in c:\\users\\ricca\\miniconda3\\envs\\prnu\\lib\\site-packages (from sphinx>=4.2->numpydoc>=1.1.0->dglgo) (1.0.3)\n",
            "Requirement already satisfied: babel>=2.9 in c:\\users\\ricca\\miniconda3\\envs\\prnu\\lib\\site-packages (from sphinx>=4.2->numpydoc>=1.1.0->dglgo) (2.11.0)\n",
            "Requirement already satisfied: sphinxcontrib-htmlhelp>=2.0.0 in c:\\users\\ricca\\miniconda3\\envs\\prnu\\lib\\site-packages (from sphinx>=4.2->numpydoc>=1.1.0->dglgo) (2.0.0)\n",
            "Requirement already satisfied: imagesize>=1.3 in c:\\users\\ricca\\miniconda3\\envs\\prnu\\lib\\site-packages (from sphinx>=4.2->numpydoc>=1.1.0->dglgo) (1.4.1)\n",
            "Requirement already satisfied: pyparsing!=3.0.5,>=2.0.2 in c:\\users\\ricca\\appdata\\roaming\\python\\python310\\site-packages (from packaging>=21.0->sphinx>=4.2->numpydoc>=1.1.0->dglgo) (3.0.9)\n",
            "Note: you may need to restart the kernel to use updated packages.\n",
            "Requirement already satisfied: torch-geometric in c:\\users\\ricca\\miniconda3\\envs\\prnu\\lib\\site-packages (2.2.0)\n",
            "Requirement already satisfied: pyparsing in c:\\users\\ricca\\appdata\\roaming\\python\\python310\\site-packages (from torch-geometric) (3.0.9)\n",
            "Requirement already satisfied: requests in c:\\users\\ricca\\miniconda3\\envs\\prnu\\lib\\site-packages (from torch-geometric) (2.28.1)\n",
            "Requirement already satisfied: scipy in c:\\users\\ricca\\miniconda3\\envs\\prnu\\lib\\site-packages (from torch-geometric) (1.9.3)\n",
            "Requirement already satisfied: jinja2 in c:\\users\\ricca\\miniconda3\\envs\\prnu\\lib\\site-packages (from torch-geometric) (3.1.2)\n",
            "Requirement already satisfied: tqdm in c:\\users\\ricca\\miniconda3\\envs\\prnu\\lib\\site-packages (from torch-geometric) (4.64.1)\n",
            "Requirement already satisfied: scikit-learn in c:\\users\\ricca\\miniconda3\\envs\\prnu\\lib\\site-packages (from torch-geometric) (1.1.3)\n",
            "Requirement already satisfied: psutil>=5.8.0 in c:\\users\\ricca\\appdata\\roaming\\python\\python310\\site-packages (from torch-geometric) (5.9.4)\n",
            "Requirement already satisfied: numpy in c:\\users\\ricca\\miniconda3\\envs\\prnu\\lib\\site-packages (from torch-geometric) (1.23.5)\n",
            "Requirement already satisfied: MarkupSafe>=2.0 in c:\\users\\ricca\\miniconda3\\envs\\prnu\\lib\\site-packages (from jinja2->torch-geometric) (2.1.1)\n",
            "Requirement already satisfied: certifi>=2017.4.17 in c:\\users\\ricca\\miniconda3\\envs\\prnu\\lib\\site-packages (from requests->torch-geometric) (2022.12.7)\n",
            "Requirement already satisfied: idna<4,>=2.5 in c:\\users\\ricca\\miniconda3\\envs\\prnu\\lib\\site-packages (from requests->torch-geometric) (3.4)\n",
            "Requirement already satisfied: charset-normalizer<3,>=2 in c:\\users\\ricca\\miniconda3\\envs\\prnu\\lib\\site-packages (from requests->torch-geometric) (2.1.1)\n",
            "Requirement already satisfied: urllib3<1.27,>=1.21.1 in c:\\users\\ricca\\miniconda3\\envs\\prnu\\lib\\site-packages (from requests->torch-geometric) (1.26.13)\n",
            "Requirement already satisfied: joblib>=1.0.0 in c:\\users\\ricca\\miniconda3\\envs\\prnu\\lib\\site-packages (from scikit-learn->torch-geometric) (1.2.0)\n",
            "Requirement already satisfied: threadpoolctl>=2.0.0 in c:\\users\\ricca\\miniconda3\\envs\\prnu\\lib\\site-packages (from scikit-learn->torch-geometric) (3.1.0)\n",
            "Requirement already satisfied: colorama in c:\\users\\ricca\\appdata\\roaming\\python\\python310\\site-packages (from tqdm->torch-geometric) (0.4.6)\n",
            "Note: you may need to restart the kernel to use updated packages.\n"
          ]
        }
      ],
      "source": [
        "%pip install dgl\n",
        "# %pip install dgl dglgo -f https://data.dgl.ai/wheels/repo.html\n",
        "%pip install torch-geometric\n",
        "# !pip install torch-scatter -f https://data.pyg.org/whl/torch-1.12.0+cu113.html\n",
        "# !pip install torch-sparse -f https://data.pyg.org/whl/torch-1.12.0+cu113.html\n",
        "\n",
        "# !pip install ogb"
      ]
    },
    {
      "cell_type": "code",
      "execution_count": 1,
      "metadata": {
        "colab": {
          "base_uri": "https://localhost:8080/"
        },
        "id": "CZhfHq8YsSyb",
        "outputId": "8cbe063c-934f-4581-f85b-a44748bddc1e"
      },
      "outputs": [
        {
          "name": "stderr",
          "output_type": "stream",
          "text": [
            "c:\\Users\\ricca\\miniconda3\\envs\\prnu\\lib\\site-packages\\tqdm\\auto.py:22: TqdmWarning: IProgress not found. Please update jupyter and ipywidgets. See https://ipywidgets.readthedocs.io/en/stable/user_install.html\n",
            "  from .autonotebook import tqdm as notebook_tqdm\n"
          ]
        }
      ],
      "source": [
        "import torch\n",
        "import dgl\n",
        "import torch.nn as nn\n",
        "import torch.nn.functional as F\n",
        "import dgl.data\n",
        "from dgl.nn import GraphConv\n",
        "import numpy as np\n",
        "import pandas as pd\n",
        "from torchsummary import summary "
      ]
    },
    {
      "cell_type": "code",
      "execution_count": 2,
      "metadata": {
        "colab": {
          "base_uri": "https://localhost:8080/",
          "height": 424
        },
        "id": "wmGwzY-NAhOn",
        "outputId": "a47c62a4-e60e-4e76-9fa2-274495f05d0b"
      },
      "outputs": [
        {
          "data": {
            "text/html": [
              "<div>\n",
              "<style scoped>\n",
              "    .dataframe tbody tr th:only-of-type {\n",
              "        vertical-align: middle;\n",
              "    }\n",
              "\n",
              "    .dataframe tbody tr th {\n",
              "        vertical-align: top;\n",
              "    }\n",
              "\n",
              "    .dataframe thead th {\n",
              "        text-align: right;\n",
              "    }\n",
              "</style>\n",
              "<table border=\"1\" class=\"dataframe\">\n",
              "  <thead>\n",
              "    <tr style=\"text-align: right;\">\n",
              "      <th></th>\n",
              "      <th>places</th>\n",
              "      <th>edges</th>\n",
              "      <th>globals</th>\n",
              "    </tr>\n",
              "  </thead>\n",
              "  <tbody>\n",
              "    <tr>\n",
              "      <th>0</th>\n",
              "      <td>{'id': [0, 1, 2, 3, 4, 5, 6, 7, 8, 9, 10, 11, ...</td>\n",
              "      <td>{'place_1': [0, 0, 1, 2, 2, 3, 4, 4, 5, 6, 7, ...</td>\n",
              "      <td>{'player_id': 1, 'victory_points': 1, 'used_kn...</td>\n",
              "    </tr>\n",
              "    <tr>\n",
              "      <th>1</th>\n",
              "      <td>{'id': [0, 1, 2, 3, 4, 5, 6, 7, 8, 9, 10, 11, ...</td>\n",
              "      <td>{'place_1': [0, 0, 1, 2, 2, 3, 4, 4, 5, 6, 7, ...</td>\n",
              "      <td>{'player_id': 2, 'victory_points': 1, 'used_kn...</td>\n",
              "    </tr>\n",
              "    <tr>\n",
              "      <th>2</th>\n",
              "      <td>{'id': [0, 1, 2, 3, 4, 5, 6, 7, 8, 9, 10, 11, ...</td>\n",
              "      <td>{'place_1': [0, 0, 1, 2, 2, 3, 4, 4, 5, 6, 7, ...</td>\n",
              "      <td>{'player_id': 3, 'victory_points': 1, 'used_kn...</td>\n",
              "    </tr>\n",
              "    <tr>\n",
              "      <th>3</th>\n",
              "      <td>{'id': [0, 1, 2, 3, 4, 5, 6, 7, 8, 9, 10, 11, ...</td>\n",
              "      <td>{'place_1': [0, 0, 1, 2, 2, 3, 4, 4, 5, 6, 7, ...</td>\n",
              "      <td>{'player_id': 4, 'victory_points': 1, 'used_kn...</td>\n",
              "    </tr>\n",
              "    <tr>\n",
              "      <th>4</th>\n",
              "      <td>{'id': [0, 1, 2, 3, 4, 5, 6, 7, 8, 9, 10, 11, ...</td>\n",
              "      <td>{'place_1': [0, 0, 1, 2, 2, 3, 4, 4, 5, 6, 7, ...</td>\n",
              "      <td>{'player_id': 4, 'victory_points': 2, 'used_kn...</td>\n",
              "    </tr>\n",
              "    <tr>\n",
              "      <th>...</th>\n",
              "      <td>...</td>\n",
              "      <td>...</td>\n",
              "      <td>...</td>\n",
              "    </tr>\n",
              "    <tr>\n",
              "      <th>34113</th>\n",
              "      <td>{'id': [0, 1, 2, 3, 4, 5, 6, 7, 8, 9, 10, 11, ...</td>\n",
              "      <td>{'place_1': [0, 0, 1, 2, 2, 3, 4, 4, 5, 6, 7, ...</td>\n",
              "      <td>{'player_id': 1, 'victory_points': 9, 'used_kn...</td>\n",
              "    </tr>\n",
              "    <tr>\n",
              "      <th>34114</th>\n",
              "      <td>{'id': [0, 1, 2, 3, 4, 5, 6, 7, 8, 9, 10, 11, ...</td>\n",
              "      <td>{'place_1': [0, 0, 1, 2, 2, 3, 4, 4, 5, 6, 7, ...</td>\n",
              "      <td>{'player_id': 1, 'victory_points': 9, 'used_kn...</td>\n",
              "    </tr>\n",
              "    <tr>\n",
              "      <th>34115</th>\n",
              "      <td>{'id': [0, 1, 2, 3, 4, 5, 6, 7, 8, 9, 10, 11, ...</td>\n",
              "      <td>{'place_1': [0, 0, 1, 2, 2, 3, 4, 4, 5, 6, 7, ...</td>\n",
              "      <td>{'player_id': 2, 'victory_points': 3, 'used_kn...</td>\n",
              "    </tr>\n",
              "    <tr>\n",
              "      <th>34116</th>\n",
              "      <td>{'id': [0, 1, 2, 3, 4, 5, 6, 7, 8, 9, 10, 11, ...</td>\n",
              "      <td>{'place_1': [0, 0, 1, 2, 2, 3, 4, 4, 5, 6, 7, ...</td>\n",
              "      <td>{'player_id': 2, 'victory_points': 3, 'used_kn...</td>\n",
              "    </tr>\n",
              "    <tr>\n",
              "      <th>34117</th>\n",
              "      <td>{'id': [0, 1, 2, 3, 4, 5, 6, 7, 8, 9, 10, 11, ...</td>\n",
              "      <td>{'place_1': [0, 0, 1, 2, 2, 3, 4, 4, 5, 6, 7, ...</td>\n",
              "      <td>{'player_id': 3, 'victory_points': 10, 'used_k...</td>\n",
              "    </tr>\n",
              "  </tbody>\n",
              "</table>\n",
              "<p>34118 rows × 3 columns</p>\n",
              "</div>"
            ],
            "text/plain": [
              "                                                  places  \\\n",
              "0      {'id': [0, 1, 2, 3, 4, 5, 6, 7, 8, 9, 10, 11, ...   \n",
              "1      {'id': [0, 1, 2, 3, 4, 5, 6, 7, 8, 9, 10, 11, ...   \n",
              "2      {'id': [0, 1, 2, 3, 4, 5, 6, 7, 8, 9, 10, 11, ...   \n",
              "3      {'id': [0, 1, 2, 3, 4, 5, 6, 7, 8, 9, 10, 11, ...   \n",
              "4      {'id': [0, 1, 2, 3, 4, 5, 6, 7, 8, 9, 10, 11, ...   \n",
              "...                                                  ...   \n",
              "34113  {'id': [0, 1, 2, 3, 4, 5, 6, 7, 8, 9, 10, 11, ...   \n",
              "34114  {'id': [0, 1, 2, 3, 4, 5, 6, 7, 8, 9, 10, 11, ...   \n",
              "34115  {'id': [0, 1, 2, 3, 4, 5, 6, 7, 8, 9, 10, 11, ...   \n",
              "34116  {'id': [0, 1, 2, 3, 4, 5, 6, 7, 8, 9, 10, 11, ...   \n",
              "34117  {'id': [0, 1, 2, 3, 4, 5, 6, 7, 8, 9, 10, 11, ...   \n",
              "\n",
              "                                                   edges  \\\n",
              "0      {'place_1': [0, 0, 1, 2, 2, 3, 4, 4, 5, 6, 7, ...   \n",
              "1      {'place_1': [0, 0, 1, 2, 2, 3, 4, 4, 5, 6, 7, ...   \n",
              "2      {'place_1': [0, 0, 1, 2, 2, 3, 4, 4, 5, 6, 7, ...   \n",
              "3      {'place_1': [0, 0, 1, 2, 2, 3, 4, 4, 5, 6, 7, ...   \n",
              "4      {'place_1': [0, 0, 1, 2, 2, 3, 4, 4, 5, 6, 7, ...   \n",
              "...                                                  ...   \n",
              "34113  {'place_1': [0, 0, 1, 2, 2, 3, 4, 4, 5, 6, 7, ...   \n",
              "34114  {'place_1': [0, 0, 1, 2, 2, 3, 4, 4, 5, 6, 7, ...   \n",
              "34115  {'place_1': [0, 0, 1, 2, 2, 3, 4, 4, 5, 6, 7, ...   \n",
              "34116  {'place_1': [0, 0, 1, 2, 2, 3, 4, 4, 5, 6, 7, ...   \n",
              "34117  {'place_1': [0, 0, 1, 2, 2, 3, 4, 4, 5, 6, 7, ...   \n",
              "\n",
              "                                                 globals  \n",
              "0      {'player_id': 1, 'victory_points': 1, 'used_kn...  \n",
              "1      {'player_id': 2, 'victory_points': 1, 'used_kn...  \n",
              "2      {'player_id': 3, 'victory_points': 1, 'used_kn...  \n",
              "3      {'player_id': 4, 'victory_points': 1, 'used_kn...  \n",
              "4      {'player_id': 4, 'victory_points': 2, 'used_kn...  \n",
              "...                                                  ...  \n",
              "34113  {'player_id': 1, 'victory_points': 9, 'used_kn...  \n",
              "34114  {'player_id': 1, 'victory_points': 9, 'used_kn...  \n",
              "34115  {'player_id': 2, 'victory_points': 3, 'used_kn...  \n",
              "34116  {'player_id': 2, 'victory_points': 3, 'used_kn...  \n",
              "34117  {'player_id': 3, 'victory_points': 10, 'used_k...  \n",
              "\n",
              "[34118 rows x 3 columns]"
            ]
          },
          "execution_count": 2,
          "metadata": {},
          "output_type": "execute_result"
        }
      ],
      "source": [
        "moves = pd.read_json('../json/game.json') #.astype(float)\n",
        "\n",
        "moves"
      ]
    },
    {
      "cell_type": "code",
      "execution_count": 3,
      "metadata": {},
      "outputs": [
        {
          "name": "stdout",
          "output_type": "stream",
          "text": [
            "[9758, 7499, 10909, 5952]\n"
          ]
        }
      ],
      "source": [
        "players = [0,0,0,0]\n",
        "for i in range(len(moves)):\n",
        "    players[moves.iloc[i].globals['winner']-1] += 1\n",
        "print(players)"
      ]
    },
    {
      "cell_type": "code",
      "execution_count": 4,
      "metadata": {
        "id": "sC42hQ0BL1-p"
      },
      "outputs": [],
      "source": [
        "def extractInputFeaturesMove(moveIndex):\n",
        "  places = moves.iloc[moveIndex].places\n",
        "  edges = moves.iloc[moveIndex].edges\n",
        "  u = torch.tensor(edges['place_1'])\n",
        "  v = torch.tensor(edges['place_2'])\n",
        "  w = torch.tensor(edges['edge_owner'])\n",
        "  g = dgl.graph((torch.cat([u, v], dim=0) , torch.cat([v, u], dim=0)))\n",
        "  g.edata['weight'] = torch.cat([w, w], dim=0).float()\n",
        "  g.ndata['feat'] = torch.tensor(np.transpose(list(places.values()))).float()\n",
        "  return g"
      ]
    },
    {
      "cell_type": "code",
      "execution_count": 6,
      "metadata": {},
      "outputs": [
        {
          "data": {
            "text/plain": [
              "Graph(num_nodes=54, num_edges=144,\n",
              "      ndata_schemes={'feat': Scheme(shape=(11,), dtype=torch.float32)}\n",
              "      edata_schemes={'weight': Scheme(shape=(), dtype=torch.float32)})"
            ]
          },
          "execution_count": 6,
          "metadata": {},
          "output_type": "execute_result"
        }
      ],
      "source": [
        "extractInputFeaturesMove(101).to('cuda:0')"
      ]
    },
    {
      "cell_type": "code",
      "execution_count": 8,
      "metadata": {
        "id": "g9FkrDDPGtQ-"
      },
      "outputs": [],
      "source": [
        "class Net(nn.Module):\n",
        "  def __init__(self, gnnInputDim, gnnHiddenDim, gnnOutputDim, globInputDim):\n",
        "    super().__init__()\n",
        "    self.GNN1 = GraphConv(gnnInputDim, gnnHiddenDim)\n",
        "    self.GNN2 = GraphConv(gnnHiddenDim, gnnHiddenDim)\n",
        "    self.GNN3 = GraphConv(gnnHiddenDim, gnnOutputDim)\n",
        "\n",
        "    self.GlobalLayer1 = nn.Linear(globInputDim, 16)\n",
        "    self.GlobalLayer2 = nn.Linear(16, 16)\n",
        "    self.GlobalLayer3 = nn.Linear(16, globInputDim)\n",
        "\n",
        "\n",
        "    self.OutputLayer1 = nn.Linear(54*gnnOutputDim+globInputDim, 85)\n",
        "    self.OutputLayer2 = nn.Linear(85, 4)\n",
        "\n",
        "  def forward(self, graph, globalFeats):\n",
        "    graph.ndata['feat'] = F.relu(self.GNN1(graph, graph.ndata['feat']))\n",
        "    graph.ndata['feat'] = F.relu(self.GNN2(graph, graph.ndata['feat']))\n",
        "    embeds = F.relu(self.GNN3(graph, graph.ndata['feat']))\n",
        "    embeds = torch.flatten(embeds)\n",
        "    \n",
        "    globalFeats = F.relu(self.GlobalLayer1(globalFeats))\n",
        "    globalFeats = F.relu(self.GlobalLayer2(globalFeats))\n",
        "    globalFeats = F.relu(self.GlobalLayer3(globalFeats))\n",
        "\n",
        "\n",
        "    output = F.relu(self.OutputLayer1(torch.cat([embeds, globalFeats])))\n",
        "    output = self.OutputLayer2(output)\n",
        "    return nn.Softmax(dim=0)(output)\n",
        "    "
      ]
    },
    {
      "cell_type": "code",
      "execution_count": 9,
      "metadata": {
        "id": "8ngm2nUNm8fv"
      },
      "outputs": [
        {
          "name": "stdout",
          "output_type": "stream",
          "text": [
            "=================================================================\n",
            "Layer (type:depth-idx)                   Param #\n",
            "=================================================================\n",
            "├─GraphConv: 1-1                         96\n",
            "├─GraphConv: 1-2                         72\n",
            "├─GraphConv: 1-3                         27\n",
            "├─Linear: 1-4                            144\n",
            "├─Linear: 1-5                            272\n",
            "├─Linear: 1-6                            136\n",
            "├─Linear: 1-7                            14,535\n",
            "├─Linear: 1-8                            344\n",
            "=================================================================\n",
            "Total params: 15,626\n",
            "Trainable params: 15,626\n",
            "Non-trainable params: 0\n",
            "=================================================================\n"
          ]
        },
        {
          "data": {
            "text/plain": [
              "=================================================================\n",
              "Layer (type:depth-idx)                   Param #\n",
              "=================================================================\n",
              "├─GraphConv: 1-1                         96\n",
              "├─GraphConv: 1-2                         72\n",
              "├─GraphConv: 1-3                         27\n",
              "├─Linear: 1-4                            144\n",
              "├─Linear: 1-5                            272\n",
              "├─Linear: 1-6                            136\n",
              "├─Linear: 1-7                            14,535\n",
              "├─Linear: 1-8                            344\n",
              "=================================================================\n",
              "Total params: 15,626\n",
              "Trainable params: 15,626\n",
              "Non-trainable params: 0\n",
              "================================================================="
            ]
          },
          "execution_count": 9,
          "metadata": {},
          "output_type": "execute_result"
        }
      ],
      "source": [
        "model = Net(g.ndata['feat'].shape[1], 8, 3, 8).to('cuda:0')\n",
        "summary(model, input_size=(g.ndata['feat'].shape[1], 8, 8))"
      ]
    },
    {
      "cell_type": "code",
      "execution_count": 10,
      "metadata": {
        "id": "QfQYcG4Y823h"
      },
      "outputs": [],
      "source": [
        "loss = nn.CrossEntropyLoss()\n",
        "optimizer = torch.optim.Adam(model.parameters(), lr=0.001)"
      ]
    },
    {
      "cell_type": "code",
      "execution_count": 11,
      "metadata": {},
      "outputs": [],
      "source": [
        "idxs = np.random.permutation([x for x in range(len(moves))])\n",
        "train = idxs[:5000]\n",
        "validation = idxs[:500]\n",
        "test = idxs[5000:6000]"
      ]
    },
    {
      "cell_type": "code",
      "execution_count": 12,
      "metadata": {},
      "outputs": [
        {
          "data": {
            "text/plain": [
              "34118"
            ]
          },
          "execution_count": 12,
          "metadata": {},
          "output_type": "execute_result"
        }
      ],
      "source": [
        "len(moves)"
      ]
    },
    {
      "cell_type": "code",
      "execution_count": 13,
      "metadata": {
        "colab": {
          "base_uri": "https://localhost:8080/"
        },
        "id": "TtiB15Dikvfj",
        "outputId": "6d6d27dc-c0cb-4f13-bc87-97e00a9e6844"
      },
      "outputs": [
        {
          "name": "stdout",
          "output_type": "stream",
          "text": [
            "epoch:  1\n",
            "epoch:  2\n",
            "epoch:  3\n",
            "epoch:  4\n",
            "epoch:  5\n"
          ]
        }
      ],
      "source": [
        "for epoch in range(5):\n",
        "  print('epoch: ', epoch+1)\n",
        "  for i, idx in enumerate(train):\n",
        "    g = extractInputFeaturesMove(idx).to('cuda:0')\n",
        "    glob = torch.tensor(list(moves.iloc[idx].globals.values())[:-1]).float().cuda()\n",
        "    labels = torch.tensor(list(moves.iloc[idx].globals.values())[-1]).cuda()-1\n",
        "    optimizer.zero_grad()\n",
        "    outputs = model(g, glob)\n",
        "    outputs = loss(outputs, labels)\n",
        "    outputs.backward()\n",
        "    optimizer.step()\n"
      ]
    },
    {
      "cell_type": "code",
      "execution_count": 15,
      "metadata": {},
      "outputs": [
        {
          "name": "stdout",
          "output_type": "stream",
          "text": [
            "accuracy validation:  82.0\n"
          ]
        }
      ],
      "source": [
        "correct_preds = 0\n",
        "tot_preds = len(validation)\n",
        "with torch.no_grad():\n",
        "    for i in validation:\n",
        "        g = extractInputFeaturesMove(i).to('cuda:0')\n",
        "        glob = torch.tensor(list(moves.iloc[i].globals.values())[:-1]).float().cuda()\n",
        "        labels = torch.tensor(list(moves.iloc[i].globals.values())[-1]).cuda()-1   \n",
        "        outputs = model(g, glob)\n",
        "        _, predictions = torch.max(outputs, dim=-1)\n",
        "        #print(labels)\n",
        "        if labels.eq(predictions):\n",
        "            correct_preds +=1\n",
        "\n",
        "print('accuracy validation: ', correct_preds/tot_preds * 100)"
      ]
    },
    {
      "cell_type": "code",
      "execution_count": 17,
      "metadata": {
        "id": "rdMtLdJB84A_"
      },
      "outputs": [
        {
          "name": "stdout",
          "output_type": "stream",
          "text": [
            "accuracy test:  81.69999999999999\n"
          ]
        }
      ],
      "source": [
        "correct_preds = 0\n",
        "tot_preds = len(test)\n",
        "with torch.no_grad():\n",
        "    for i in test:\n",
        "        g = extractInputFeaturesMove(i).to('cuda:0')\n",
        "        glob = torch.tensor(list(moves.iloc[i].globals.values())[:-1]).float().cuda()\n",
        "        labels = torch.tensor(list(moves.iloc[i].globals.values())[-1]).cuda()-1   \n",
        "        outputs = model(g, glob)\n",
        "        _, predictions = torch.max(outputs, dim=-1)\n",
        "        #print(labels)\n",
        "        if labels.eq(predictions):\n",
        "            correct_preds +=1\n",
        "\n",
        "print('accuracy test: ', correct_preds/tot_preds * 100)"
      ]
    },
    {
      "cell_type": "code",
      "execution_count": 18,
      "metadata": {},
      "outputs": [],
      "source": [
        "torch.save(model.state_dict(), './model_weights.pth')"
      ]
    },
    {
      "cell_type": "code",
      "execution_count": null,
      "metadata": {},
      "outputs": [],
      "source": [
        "# NUOVO APPROCCIO BAYESIANO BOZZA:\n",
        "import pyro\n",
        "from pyro.nn import PyroModule, PyroSample\n",
        "\n",
        "class Net(PyroModule):\n",
        "  def __init__(self, gnnInputDim, gnnHiddenDim, gnnOutputDim, globInputDim):\n",
        "    super().__init__()\n",
        "\n",
        "    # Definizione delle distribuzioni priori per i pesi\n",
        "    self.GNN1 = PyroModule[GraphConv](gnnInputDim, gnnHiddenDim)\n",
        "    self.GNN1.weight = PyroSample(prior=pyro.distributions.Normal(0, 1))\n",
        "\n",
        "    self.GNN2 = PyroModule[GraphConv](gnnHiddenDim, gnnHiddenDim)\n",
        "    self.GNN2.weight = PyroSample(prior=pyro.distributions.Normal(0, 1))\n",
        "\n",
        "    self.GNN3 = PyroModule[GraphConv](gnnHiddenDim, gnnOutputDim)\n",
        "    self.GNN3.weight = PyroSample(prior=pyro.distributions.Normal(0, 1))\n",
        "\n",
        "    self.GlobalLayer1 = PyroModule[nn.Linear](globInputDim, 16)\n",
        "    self.GlobalLayer1.weight = PyroSample(prior=pyro.distributions.Normal(0, 1))\n",
        "\n",
        "    self.GlobalLayer2 = PyroModule[nn.Linear](16, 16)\n",
        "    self.GlobalLayer2.weight = PyroSample(prior=pyro.distributions.Normal(0, 1))\n",
        "\n",
        "    self.GlobalLayer3 = PyroModule[nn.Linear](16, globInputDim)\n",
        "    self.GlobalLayer3.weight = PyroSample(prior=pyro.distributions.Normal(0, 1))\n",
        "\n",
        "    self.OutputLayer1 = PyroModule[nn.Linear](54*gnnOutputDim+globInputDim, 85)\n",
        "    self.OutputLayer1.weight = PyroSample(prior=pyro.distributions.Normal(0, 1))\n",
        "\n",
        "    self.OutputLayer2 = PyroModule[nn.Linear](85, 4)\n",
        "    self.OutputLayer2.weight = PyroSample(prior=pyro.distributions.Normal(0, 1))\n",
        "\n",
        "def forward(self, graph, globalFeats, labels=None):\n",
        "    # Definizione delle distribuzioni posteriori per i pesi\n",
        "    graph.ndata['feat'] = F.relu(self.GNN1(graph, graph.ndata['feat']))\n",
        "    graph.ndata['feat'] = F.relu(self.GNN2(graph, graph.ndata['feat']))\n",
        "    embeds = F.relu(self.GNN3(graph, graph.ndata['feat']))\n",
        "    embeds = torch.flatten(embeds)\n",
        "\n",
        "    globalFeats = F.relu(self.GlobalLayer1(globalFeats))\n",
        "    globalFeats = F.relu(self.GlobalLayer2(globalFeats))\n",
        "    globalFeats = F.relu(self.GlobalLayer3(globalFeats))\n",
        "\n",
        "    output = F.relu(self.OutputLayer1(torch.cat([embeds, globalFeats])))\n",
        "    output = self.OutputLayer2(output)\n",
        "    \n",
        "    # Definizione della funzione di guadagno per i pesi\n",
        "    for name, module in self.named_modules():\n",
        "        if isinstance(module, PyroModule):\n",
        "            pyro.sample(f\"{name}_weight\", module.weight)\n",
        "    \n",
        "    # Calcolo della perdita per la rete neurale Bayesiana\n",
        "    loss = nn.CrossEntropyLoss()(output, labels)\n",
        "    for name, module in self.named_modules():\n",
        "        if isinstance(module, PyroModule):\n",
        "            loss += pyro.sample(f\"{name}_weight\", module.weight).abs().sum()\n",
        "\n",
        "    return nn.Softmax(dim=0)(output), loss\n",
        "\n"
      ]
    }
  ],
  "metadata": {
    "colab": {
      "provenance": []
    },
    "kernelspec": {
      "display_name": "prnu",
      "language": "python",
      "name": "python3"
    },
    "language_info": {
      "codemirror_mode": {
        "name": "ipython",
        "version": 3
      },
      "file_extension": ".py",
      "mimetype": "text/x-python",
      "name": "python",
      "nbconvert_exporter": "python",
      "pygments_lexer": "ipython3",
      "version": "3.10.8"
    },
    "vscode": {
      "interpreter": {
        "hash": "1852de45dd200915bac11b9d4b56e769639fae531ef05aa25fa01785f9468a5f"
      }
    }
  },
  "nbformat": 4,
  "nbformat_minor": 0
}
